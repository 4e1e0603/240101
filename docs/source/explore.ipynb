{
 "cells": [
  {
   "cell_type": "markdown",
   "metadata": {},
   "source": [
    "# Explore\n",
    "\n",
    "Explore the given datase `orders.jsonl`."
   ]
  },
  {
   "cell_type": "code",
   "execution_count": 63,
   "metadata": {},
   "outputs": [],
   "source": [
    "import pandas as pd"
   ]
  },
  {
   "cell_type": "code",
   "execution_count": 68,
   "metadata": {},
   "outputs": [],
   "source": [
    "df = pd.read_json(\"orders.jsonl\", lines=True)"
   ]
  },
  {
   "cell_type": "code",
   "execution_count": 69,
   "metadata": {},
   "outputs": [
    {
     "data": {
      "text/html": [
       "<div>\n",
       "<style scoped>\n",
       "    .dataframe tbody tr th:only-of-type {\n",
       "        vertical-align: middle;\n",
       "    }\n",
       "\n",
       "    .dataframe tbody tr th {\n",
       "        vertical-align: top;\n",
       "    }\n",
       "\n",
       "    .dataframe thead th {\n",
       "        text-align: right;\n",
       "    }\n",
       "</style>\n",
       "<table border=\"1\" class=\"dataframe\">\n",
       "  <thead>\n",
       "    <tr style=\"text-align: right;\">\n",
       "      <th></th>\n",
       "      <th>id</th>\n",
       "      <th>created</th>\n",
       "      <th>products</th>\n",
       "      <th>user</th>\n",
       "    </tr>\n",
       "  </thead>\n",
       "  <tbody>\n",
       "    <tr>\n",
       "      <th>0</th>\n",
       "      <td>0</td>\n",
       "      <td>1542328144</td>\n",
       "      <td>[{'id': 0, 'name': 'Product A', 'price': 160},...</td>\n",
       "      <td>{'id': 3, 'name': 'User D', 'city': 'Sydney'}</td>\n",
       "    </tr>\n",
       "    <tr>\n",
       "      <th>1</th>\n",
       "      <td>1</td>\n",
       "      <td>1544115833</td>\n",
       "      <td>[{'id': 3, 'name': 'Product D', 'price': 130},...</td>\n",
       "      <td>{'id': 0, 'name': 'User A', 'city': 'Prague'}</td>\n",
       "    </tr>\n",
       "    <tr>\n",
       "      <th>2</th>\n",
       "      <td>2</td>\n",
       "      <td>1540143218</td>\n",
       "      <td>[{'id': 6, 'name': 'Product G', 'price': 100},...</td>\n",
       "      <td>{'id': 0, 'name': 'User A', 'city': 'Prague'}</td>\n",
       "    </tr>\n",
       "    <tr>\n",
       "      <th>3</th>\n",
       "      <td>3</td>\n",
       "      <td>1542051492</td>\n",
       "      <td>[{'id': 6, 'name': 'Product G', 'price': 100},...</td>\n",
       "      <td>{'id': 2, 'name': 'User C', 'city': 'Singapore'}</td>\n",
       "    </tr>\n",
       "    <tr>\n",
       "      <th>4</th>\n",
       "      <td>4</td>\n",
       "      <td>1543571130</td>\n",
       "      <td>[{'id': 10, 'name': 'Product K', 'price': 60},...</td>\n",
       "      <td>{'id': 5, 'name': 'User F', 'city': 'Jakarta'}</td>\n",
       "    </tr>\n",
       "    <tr>\n",
       "      <th>5</th>\n",
       "      <td>5</td>\n",
       "      <td>1539751593</td>\n",
       "      <td>[{'id': 8, 'name': 'Product I', 'price': 80}, ...</td>\n",
       "      <td>{'id': 4, 'name': 'User E', 'city': 'Melbourne'}</td>\n",
       "    </tr>\n",
       "    <tr>\n",
       "      <th>6</th>\n",
       "      <td>6</td>\n",
       "      <td>1542050634</td>\n",
       "      <td>[{'id': 11, 'name': 'Product L', 'price': 50},...</td>\n",
       "      <td>{'id': 7, 'name': 'User H', 'city': 'Kuala Lum...</td>\n",
       "    </tr>\n",
       "    <tr>\n",
       "      <th>7</th>\n",
       "      <td>7</td>\n",
       "      <td>1539272684</td>\n",
       "      <td>[{'id': 5, 'name': 'Product F', 'price': 110},...</td>\n",
       "      <td>{'id': 2, 'name': 'User C', 'city': 'Singapore'}</td>\n",
       "    </tr>\n",
       "    <tr>\n",
       "      <th>8</th>\n",
       "      <td>8</td>\n",
       "      <td>1537488666</td>\n",
       "      <td>[{'id': 7, 'name': 'Product H', 'price': 90}, ...</td>\n",
       "      <td>{'id': 0, 'name': 'User A', 'city': 'Prague'}</td>\n",
       "    </tr>\n",
       "    <tr>\n",
       "      <th>9</th>\n",
       "      <td>9</td>\n",
       "      <td>1538884227</td>\n",
       "      <td>[{'id': 12, 'name': 'Product M', 'price': 40},...</td>\n",
       "      <td>{'id': 7, 'name': 'User H', 'city': 'Kuala Lum...</td>\n",
       "    </tr>\n",
       "  </tbody>\n",
       "</table>\n",
       "</div>"
      ],
      "text/plain": [
       "   id     created                                           products  \\\n",
       "0   0  1542328144  [{'id': 0, 'name': 'Product A', 'price': 160},...   \n",
       "1   1  1544115833  [{'id': 3, 'name': 'Product D', 'price': 130},...   \n",
       "2   2  1540143218  [{'id': 6, 'name': 'Product G', 'price': 100},...   \n",
       "3   3  1542051492  [{'id': 6, 'name': 'Product G', 'price': 100},...   \n",
       "4   4  1543571130  [{'id': 10, 'name': 'Product K', 'price': 60},...   \n",
       "5   5  1539751593  [{'id': 8, 'name': 'Product I', 'price': 80}, ...   \n",
       "6   6  1542050634  [{'id': 11, 'name': 'Product L', 'price': 50},...   \n",
       "7   7  1539272684  [{'id': 5, 'name': 'Product F', 'price': 110},...   \n",
       "8   8  1537488666  [{'id': 7, 'name': 'Product H', 'price': 90}, ...   \n",
       "9   9  1538884227  [{'id': 12, 'name': 'Product M', 'price': 40},...   \n",
       "\n",
       "                                                user  \n",
       "0      {'id': 3, 'name': 'User D', 'city': 'Sydney'}  \n",
       "1      {'id': 0, 'name': 'User A', 'city': 'Prague'}  \n",
       "2      {'id': 0, 'name': 'User A', 'city': 'Prague'}  \n",
       "3   {'id': 2, 'name': 'User C', 'city': 'Singapore'}  \n",
       "4     {'id': 5, 'name': 'User F', 'city': 'Jakarta'}  \n",
       "5   {'id': 4, 'name': 'User E', 'city': 'Melbourne'}  \n",
       "6  {'id': 7, 'name': 'User H', 'city': 'Kuala Lum...  \n",
       "7   {'id': 2, 'name': 'User C', 'city': 'Singapore'}  \n",
       "8      {'id': 0, 'name': 'User A', 'city': 'Prague'}  \n",
       "9  {'id': 7, 'name': 'User H', 'city': 'Kuala Lum...  "
      ]
     },
     "execution_count": 69,
     "metadata": {},
     "output_type": "execute_result"
    }
   ],
   "source": [
    "df.head(10)"
   ]
  },
  {
   "cell_type": "code",
   "execution_count": 77,
   "metadata": {},
   "outputs": [
    {
     "name": "stdout",
     "output_type": "stream",
     "text": [
      "There is 5000 records.\n"
     ]
    },
    {
     "data": {
      "text/plain": [
       "0          {'id': 3, 'name': 'User D', 'city': 'Sydney'}\n",
       "1          {'id': 0, 'name': 'User A', 'city': 'Prague'}\n",
       "2          {'id': 0, 'name': 'User A', 'city': 'Prague'}\n",
       "3       {'id': 2, 'name': 'User C', 'city': 'Singapore'}\n",
       "4         {'id': 5, 'name': 'User F', 'city': 'Jakarta'}\n",
       "                              ...                       \n",
       "4995    {'id': 6, 'name': 'User G', 'city': 'Hong Kong'}\n",
       "4996       {'id': 0, 'name': 'User A', 'city': 'Prague'}\n",
       "4997       {'id': 3, 'name': 'User D', 'city': 'Sydney'}\n",
       "4998      {'id': 5, 'name': 'User F', 'city': 'Jakarta'}\n",
       "4999      {'id': 5, 'name': 'User F', 'city': 'Jakarta'}\n",
       "Name: user, Length: 5000, dtype: object"
      ]
     },
     "execution_count": 77,
     "metadata": {},
     "output_type": "execute_result"
    }
   ],
   "source": [
    "print(f\"There is {len(df)} records.\")\n"
   ]
  },
  {
   "cell_type": "code",
   "execution_count": 78,
   "metadata": {},
   "outputs": [],
   "source": [
    "users = df[\"user\"].apply(lambda x: (x[\"id\"], x[\"name\"], x[\"city\"]))"
   ]
  },
  {
   "cell_type": "code",
   "execution_count": 87,
   "metadata": {},
   "outputs": [
    {
     "name": "stdout",
     "output_type": "stream",
     "text": [
      "There is 8 of unique users.\n"
     ]
    }
   ],
   "source": [
    "print(f\"There is {len(users.unique())} of unique users.\")"
   ]
  },
  {
   "cell_type": "code",
   "execution_count": 86,
   "metadata": {},
   "outputs": [
    {
     "name": "stdout",
     "output_type": "stream",
     "text": [
      "0          (3, User D, Sydney)\n",
      "1          (0, User A, Prague)\n",
      "2          (0, User A, Prague)\n",
      "3       (2, User C, Singapore)\n",
      "4         (5, User F, Jakarta)\n",
      "                 ...          \n",
      "4995    (6, User G, Hong Kong)\n",
      "4996       (0, User A, Prague)\n",
      "4997       (3, User D, Sydney)\n",
      "4998      (5, User F, Jakarta)\n",
      "4999      (5, User F, Jakarta)\n",
      "Name: user, Length: 5000, dtype: object\n"
     ]
    }
   ],
   "source": [
    "print(users)"
   ]
  },
  {
   "cell_type": "code",
   "execution_count": 82,
   "metadata": {},
   "outputs": [],
   "source": [
    "products = df[\"products\"].explode().apply(lambda x: (x[\"id\"], x[\"name\"], x[\"price\"]))"
   ]
  },
  {
   "cell_type": "code",
   "execution_count": 83,
   "metadata": {},
   "outputs": [
    {
     "name": "stdout",
     "output_type": "stream",
     "text": [
      "There is 16 of unique products.\n"
     ]
    }
   ],
   "source": [
    "print(f\"There is {len(products.unique())} of unique products.\")"
   ]
  },
  {
   "cell_type": "code",
   "execution_count": 84,
   "metadata": {},
   "outputs": [
    {
     "name": "stdout",
     "output_type": "stream",
     "text": [
      "0       (0, Product A, 160)\n",
      "0        (8, Product I, 80)\n",
      "1       (3, Product D, 130)\n",
      "1       (2, Product C, 140)\n",
      "1       (13, Product N, 30)\n",
      "               ...         \n",
      "4999    (0, Product A, 160)\n",
      "4999    (0, Product A, 160)\n",
      "4999     (8, Product I, 80)\n",
      "4999    (13, Product N, 30)\n",
      "4999    (1, Product B, 150)\n",
      "Name: products, Length: 27347, dtype: object\n"
     ]
    }
   ],
   "source": [
    "print(products)"
   ]
  },
  {
   "cell_type": "code",
   "execution_count": null,
   "metadata": {},
   "outputs": [],
   "source": []
  }
 ],
 "metadata": {
  "kernelspec": {
   "display_name": ".venv",
   "language": "python",
   "name": "python3"
  },
  "language_info": {
   "codemirror_mode": {
    "name": "ipython",
    "version": 3
   },
   "file_extension": ".py",
   "mimetype": "text/x-python",
   "name": "python",
   "nbconvert_exporter": "python",
   "pygments_lexer": "ipython3",
   "version": "3.12.0"
  }
 },
 "nbformat": 4,
 "nbformat_minor": 2
}
